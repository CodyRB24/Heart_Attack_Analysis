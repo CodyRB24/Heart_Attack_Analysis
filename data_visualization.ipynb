{
 "cells": [
  {
   "cell_type": "code",
   "execution_count": null,
   "metadata": {},
   "outputs": [],
   "source": [
    "# CPSC415/515 Big Data Programming\n",
    "# Project 3: Visualization and Prediction of heart attacks\n",
    "# Group: Cody Bauer, Demyre Ramp"
   ]
  }
 ],
 "metadata": {
  "language_info": {
   "name": "python"
  }
 },
 "nbformat": 4,
 "nbformat_minor": 2
}
